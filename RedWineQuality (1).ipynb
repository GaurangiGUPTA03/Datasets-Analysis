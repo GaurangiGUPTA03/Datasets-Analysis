{
 "cells": [
  {
   "cell_type": "code",
   "execution_count": null,
   "id": "07e8af35-a16c-4698-b1eb-f744b80c14b4",
   "metadata": {},
   "outputs": [],
   "source": [
    "import pandas as pd\n",
    "import numpy as np\n",
    "import matplotlib.pyplot as plt\n",
    "import seaborn as sns\n"
   ]
  },
  {
   "cell_type": "code",
   "execution_count": null,
   "id": "5447f2f0-c934-481a-b6ea-e0792bcc68e0",
   "metadata": {},
   "outputs": [],
   "source": [
    "df = pd.read_csv(r\"C:\\Users\\gupta\\Downloads\\winequality-red.csv\")\n",
    "df"
   ]
  },
  {
   "cell_type": "markdown",
   "id": "226a9a7f-04bf-4b8d-9b56-bdb5a458882f",
   "metadata": {},
   "source": [
    "Categorical column = quality"
   ]
  },
  {
   "cell_type": "code",
   "execution_count": null,
   "id": "0ac4bfd8-0118-40f4-af2a-3081702efba6",
   "metadata": {},
   "outputs": [],
   "source": [
    "df.info()"
   ]
  },
  {
   "cell_type": "code",
   "execution_count": null,
   "id": "d4e76227-a8c7-4660-8590-6727b6d2aeb8",
   "metadata": {},
   "outputs": [],
   "source": [
    "df['quality'].value_counts()"
   ]
  },
  {
   "cell_type": "markdown",
   "id": "ab9436ca-418f-4e37-89ba-84df38acb8ed",
   "metadata": {},
   "source": [
    "**Univariate Analysis**"
   ]
  },
  {
   "cell_type": "markdown",
   "id": "8ebd4447-44ef-4b8e-825d-c96718039cb3",
   "metadata": {},
   "source": [
    "**1.fixed acidity**"
   ]
  },
  {
   "cell_type": "code",
   "execution_count": null,
   "id": "cafe8a84-66ba-465f-aa2a-45387937a0a1",
   "metadata": {},
   "outputs": [],
   "source": [
    "df['fixed acidity'].describe()"
   ]
  },
  {
   "cell_type": "code",
   "execution_count": null,
   "id": "a0310ecf-126e-4c52-81a1-1dd53e82054e",
   "metadata": {},
   "outputs": [],
   "source": [
    "df['fixed acidity'].plot(kind = 'hist' , bins = 20)"
   ]
  },
  {
   "cell_type": "code",
   "execution_count": null,
   "id": "83110d20-2ec6-40b1-b16a-6cfaf607db65",
   "metadata": {},
   "outputs": [],
   "source": [
    "df['fixed acidity'].plot(kind = 'density')"
   ]
  },
  {
   "cell_type": "code",
   "execution_count": null,
   "id": "cff0a88e-de08-455a-af0f-ce1a27914d08",
   "metadata": {},
   "outputs": [],
   "source": [
    "df['fixed acidity'].plot(kind = 'box')"
   ]
  },
  {
   "cell_type": "code",
   "execution_count": null,
   "id": "5bcd3522-6035-4e51-9539-ca58b74f60d9",
   "metadata": {},
   "outputs": [],
   "source": [
    "df['fixed acidity'].skew()"
   ]
  },
  {
   "cell_type": "markdown",
   "id": "41b77666-e618-4032-a470-a2079269c912",
   "metadata": {},
   "source": [
    "**2.volatile acidity**"
   ]
  },
  {
   "cell_type": "code",
   "execution_count": null,
   "id": "8f8d9875-0aa2-4560-8442-b73ffe66249e",
   "metadata": {},
   "outputs": [],
   "source": [
    "df['volatile acidity'].describe()"
   ]
  },
  {
   "cell_type": "code",
   "execution_count": null,
   "id": "adf6a340-fa12-41ad-9822-7dcb357b1484",
   "metadata": {},
   "outputs": [],
   "source": [
    "df['volatile acidity'].plot(kind = 'hist', bins = 20)"
   ]
  },
  {
   "cell_type": "code",
   "execution_count": null,
   "id": "aeacb77c-505c-4889-9fa4-2da50201fe22",
   "metadata": {},
   "outputs": [],
   "source": [
    "df['volatile acidity'].plot(kind = 'density')"
   ]
  },
  {
   "cell_type": "code",
   "execution_count": null,
   "id": "5969c05b-2670-4513-8730-ccb7e4336434",
   "metadata": {},
   "outputs": [],
   "source": [
    "df['volatile acidity'].plot(kind = 'box')"
   ]
  },
  {
   "cell_type": "code",
   "execution_count": null,
   "id": "f7955449-10e1-49b8-a604-480ddc534f0d",
   "metadata": {},
   "outputs": [],
   "source": [
    "df['volatile acidity'].skew()"
   ]
  },
  {
   "cell_type": "markdown",
   "id": "7d11667b-71a6-4086-b75b-a9dc7a05a4b4",
   "metadata": {},
   "source": [
    "**3.citric acid**"
   ]
  },
  {
   "cell_type": "code",
   "execution_count": null,
   "id": "e1292bbe-d7f1-444e-a026-309e0c8206eb",
   "metadata": {},
   "outputs": [],
   "source": [
    "df['citric acid'].describe()"
   ]
  },
  {
   "cell_type": "code",
   "execution_count": null,
   "id": "3a0edd38-52e9-4e7e-a18d-305517ecba20",
   "metadata": {},
   "outputs": [],
   "source": [
    "df['citric acid'].plot(kind = 'hist', bins = 20)"
   ]
  },
  {
   "cell_type": "code",
   "execution_count": null,
   "id": "3d66f7de-1b30-453e-9d87-d4dce3cf75b9",
   "metadata": {},
   "outputs": [],
   "source": [
    "df['citric acid'].plot(kind = 'density')"
   ]
  },
  {
   "cell_type": "code",
   "execution_count": null,
   "id": "9ea3cbb3-cd03-4400-93f5-3bb91f82319e",
   "metadata": {},
   "outputs": [],
   "source": [
    "df['citric acid'].plot(kind = 'box')"
   ]
  },
  {
   "cell_type": "code",
   "execution_count": null,
   "id": "59f5a4cb-c506-424c-9160-600811be101d",
   "metadata": {},
   "outputs": [],
   "source": [
    "df['citric acid'].skew()"
   ]
  },
  {
   "cell_type": "markdown",
   "id": "09c44515-f734-48e1-a4e3-36c5c46f4ac3",
   "metadata": {},
   "source": [
    "**4.residual sugar**"
   ]
  },
  {
   "cell_type": "code",
   "execution_count": null,
   "id": "a75153e8-83e6-417e-8440-08365d7ff989",
   "metadata": {},
   "outputs": [],
   "source": [
    "df['residual sugar'].describe()"
   ]
  },
  {
   "cell_type": "code",
   "execution_count": null,
   "id": "d248816e-568b-4384-b311-8ad3e7941504",
   "metadata": {},
   "outputs": [],
   "source": [
    "df['residual sugar'].plot(kind = 'hist', bins = 20)"
   ]
  },
  {
   "cell_type": "code",
   "execution_count": null,
   "id": "34669d86-ab6a-43a5-b7a6-56fcc7a108a6",
   "metadata": {},
   "outputs": [],
   "source": [
    "df['residual sugar'].plot(kind = 'density')"
   ]
  },
  {
   "cell_type": "code",
   "execution_count": null,
   "id": "cf45ba51-4264-4409-b8ed-1e2d3abfc677",
   "metadata": {},
   "outputs": [],
   "source": [
    "df['residual sugar'].plot(kind = 'box')"
   ]
  },
  {
   "cell_type": "code",
   "execution_count": null,
   "id": "872cb512-f6f2-4688-93e2-cf59cc6b758c",
   "metadata": {},
   "outputs": [],
   "source": [
    "df['residual sugar'].skew()"
   ]
  },
  {
   "cell_type": "markdown",
   "id": "996b6d50-0bce-4cad-8948-50e190407b83",
   "metadata": {},
   "source": [
    "**5.chlorides**"
   ]
  },
  {
   "cell_type": "code",
   "execution_count": null,
   "id": "35383f06-7417-4e96-8549-a3d51a500cbb",
   "metadata": {},
   "outputs": [],
   "source": [
    "df['residual sugar'].describe()"
   ]
  },
  {
   "cell_type": "code",
   "execution_count": null,
   "id": "e4c0b347-99c9-4b85-af41-c6c065fd4445",
   "metadata": {},
   "outputs": [],
   "source": [
    "df['chlorides'].plot(kind = 'hist', bins = 20)"
   ]
  },
  {
   "cell_type": "code",
   "execution_count": null,
   "id": "c89edb64-4a7b-4831-862c-1a67fd236c46",
   "metadata": {},
   "outputs": [],
   "source": [
    "df['volatile acidity'].plot(kind = 'density')"
   ]
  },
  {
   "cell_type": "code",
   "execution_count": null,
   "id": "31040cb7-a26b-4bfe-9b2b-95f4400c5ba6",
   "metadata": {},
   "outputs": [],
   "source": [
    "df['volatile acidity'].plot(kind = 'box')"
   ]
  },
  {
   "cell_type": "code",
   "execution_count": null,
   "id": "c7e928cf-8117-4381-b1d6-19c846625795",
   "metadata": {},
   "outputs": [],
   "source": [
    "df['volatile acidity'].skew()"
   ]
  },
  {
   "cell_type": "markdown",
   "id": "bbf30b38-0f51-451c-9847-3a0c6fc651da",
   "metadata": {},
   "source": [
    "**6.free sulfur dioxide**"
   ]
  },
  {
   "cell_type": "code",
   "execution_count": null,
   "id": "562a9db3-3b8e-41ff-882e-2ccd8386f801",
   "metadata": {},
   "outputs": [],
   "source": [
    "df['free sulfur dioxide'].describe()"
   ]
  },
  {
   "cell_type": "code",
   "execution_count": null,
   "id": "ba3f2bfa-e684-4721-a950-7cf6dc2694ed",
   "metadata": {},
   "outputs": [],
   "source": [
    "df['free sulfur dioxide'].plot(kind = 'hist', bins = 20)"
   ]
  },
  {
   "cell_type": "code",
   "execution_count": null,
   "id": "39a7cc71-d4d8-4cf8-b4b5-9afa510fc160",
   "metadata": {},
   "outputs": [],
   "source": [
    "df['free sulfur dioxide'].plot(kind = 'density')"
   ]
  },
  {
   "cell_type": "code",
   "execution_count": null,
   "id": "c4732b0b-dc76-4c6b-a0a4-0b04c47f6afa",
   "metadata": {},
   "outputs": [],
   "source": [
    "df['free sulfur dioxide'].plot(kind = 'box')"
   ]
  },
  {
   "cell_type": "code",
   "execution_count": null,
   "id": "68e80a57-44a7-4d4e-996c-85e04015aeb7",
   "metadata": {},
   "outputs": [],
   "source": [
    "df['free sulfur dioxide'].skew()"
   ]
  },
  {
   "cell_type": "markdown",
   "id": "bfdb84f2-e22d-4e3d-b54b-98545c2d1756",
   "metadata": {},
   "source": [
    "**7.total sulfur dioxide**"
   ]
  },
  {
   "cell_type": "code",
   "execution_count": null,
   "id": "1e9f2074-14f8-4b83-887e-41a2baa8b204",
   "metadata": {},
   "outputs": [],
   "source": [
    "df['total sulfur dioxide'].describe()"
   ]
  },
  {
   "cell_type": "code",
   "execution_count": null,
   "id": "704631f6-6c6a-4223-b919-e1390a8a94a9",
   "metadata": {},
   "outputs": [],
   "source": [
    "df['total sulfur dioxide'].plot(kind = 'hist', bins = 20)"
   ]
  },
  {
   "cell_type": "code",
   "execution_count": null,
   "id": "31bf535f-d110-4dd9-a25a-17cda6800c0f",
   "metadata": {},
   "outputs": [],
   "source": [
    "df['volatile acidity'].plot(kind = 'density')"
   ]
  },
  {
   "cell_type": "code",
   "execution_count": null,
   "id": "3f240bb6-7881-42b8-8cd6-e52bc9b5d9bf",
   "metadata": {},
   "outputs": [],
   "source": [
    "df['volatile acidity'].plot(kind = 'box')"
   ]
  },
  {
   "cell_type": "code",
   "execution_count": null,
   "id": "d3c948c2-2827-4141-af54-076d9d6cba0b",
   "metadata": {},
   "outputs": [],
   "source": [
    "df['volatile acidity'].skew()"
   ]
  },
  {
   "cell_type": "markdown",
   "id": "73b356a9-0595-45fc-a69b-99f9340f1065",
   "metadata": {},
   "source": [
    "**8.density**"
   ]
  },
  {
   "cell_type": "code",
   "execution_count": null,
   "id": "6f84064d-1f13-430b-a396-587d96107051",
   "metadata": {},
   "outputs": [],
   "source": [
    "df['density'].describe()"
   ]
  },
  {
   "cell_type": "code",
   "execution_count": null,
   "id": "6956c545-600b-46fe-9da0-2595a5544e6b",
   "metadata": {},
   "outputs": [],
   "source": [
    "df['density'].plot(kind = 'hist', bins = 20)"
   ]
  },
  {
   "cell_type": "code",
   "execution_count": null,
   "id": "20770073-1193-4a01-b2a8-cc84826f2fd7",
   "metadata": {},
   "outputs": [],
   "source": [
    "df['density'].plot(kind = 'density')"
   ]
  },
  {
   "cell_type": "code",
   "execution_count": null,
   "id": "673eaafb-16cd-402f-a606-9c6293a8f04d",
   "metadata": {},
   "outputs": [],
   "source": [
    "df['density'].plot(kind = 'box')"
   ]
  },
  {
   "cell_type": "code",
   "execution_count": null,
   "id": "0aeeb140-95c8-4198-8c93-fdd650924fd1",
   "metadata": {},
   "outputs": [],
   "source": [
    "df['density'].skew()"
   ]
  },
  {
   "cell_type": "markdown",
   "id": "8caa13fb-8d4d-4ee2-9f13-f1ede7c346f2",
   "metadata": {},
   "source": [
    "**9.pH**"
   ]
  },
  {
   "cell_type": "code",
   "execution_count": null,
   "id": "1a1406f7-4786-4e96-ae9a-23ef82000e98",
   "metadata": {},
   "outputs": [],
   "source": [
    "df['pH'].describe()"
   ]
  },
  {
   "cell_type": "code",
   "execution_count": null,
   "id": "e77c9705-26d2-4e1a-a262-2437fad77fba",
   "metadata": {},
   "outputs": [],
   "source": [
    "df['pH'].plot(kind = 'hist', bins = 20)"
   ]
  },
  {
   "cell_type": "code",
   "execution_count": null,
   "id": "b25984f2-adf4-457b-ad8d-97de51a24f74",
   "metadata": {},
   "outputs": [],
   "source": [
    "df['pH'].plot(kind = 'density')"
   ]
  },
  {
   "cell_type": "code",
   "execution_count": null,
   "id": "d00e719e-0c68-4610-b57e-8011b9fcaad6",
   "metadata": {},
   "outputs": [],
   "source": [
    "df['pH'].plot(kind = 'box')"
   ]
  },
  {
   "cell_type": "code",
   "execution_count": null,
   "id": "6950c6a4-ab53-4250-8bda-5b013f6756da",
   "metadata": {},
   "outputs": [],
   "source": [
    "df['pH'].skew()"
   ]
  },
  {
   "cell_type": "markdown",
   "id": "fa14050f-5f45-4d19-9f50-97d08f126c9b",
   "metadata": {},
   "source": [
    "**10.sulphates**"
   ]
  },
  {
   "cell_type": "code",
   "execution_count": null,
   "id": "cf491364-7bdf-4248-b069-7b1c1a683fab",
   "metadata": {},
   "outputs": [],
   "source": [
    "df['sulphates'].describe()"
   ]
  },
  {
   "cell_type": "code",
   "execution_count": null,
   "id": "ba56aa00-220d-433e-92c8-d539a47dbd5d",
   "metadata": {},
   "outputs": [],
   "source": [
    "df['sulphates'].plot(kind = 'hist', bins = 20)"
   ]
  },
  {
   "cell_type": "code",
   "execution_count": null,
   "id": "42bd6075-9721-42bd-b075-fa405348f3c8",
   "metadata": {},
   "outputs": [],
   "source": [
    "df['sulphates'].plot(kind = 'density')"
   ]
  },
  {
   "cell_type": "code",
   "execution_count": null,
   "id": "18232308-375f-40fa-ac69-2304de5b13d3",
   "metadata": {},
   "outputs": [],
   "source": [
    "df['sulphates'].plot(kind = 'box')"
   ]
  },
  {
   "cell_type": "code",
   "execution_count": null,
   "id": "ec96eb78-cf16-4c76-b315-c5c3f8b05e6e",
   "metadata": {},
   "outputs": [],
   "source": [
    "df['sulphates'].skew()"
   ]
  },
  {
   "cell_type": "markdown",
   "id": "27b668cb-2fb1-4196-877a-973c67b34004",
   "metadata": {},
   "source": [
    "**11.alcohol**"
   ]
  },
  {
   "cell_type": "code",
   "execution_count": null,
   "id": "678e268a-47dc-430c-a264-da15c463b58a",
   "metadata": {},
   "outputs": [],
   "source": [
    "df['alcohol'].describe()"
   ]
  },
  {
   "cell_type": "code",
   "execution_count": null,
   "id": "fdc9cedd-acaf-4c8b-89f3-5e64753509fa",
   "metadata": {},
   "outputs": [],
   "source": [
    "df['alcohol'].plot(kind = 'hist', bins = 20)"
   ]
  },
  {
   "cell_type": "code",
   "execution_count": null,
   "id": "2c9330de-fd5c-42a2-8876-ae6ddce7cd6c",
   "metadata": {},
   "outputs": [],
   "source": [
    "df['alcohol'].plot(kind = 'density')"
   ]
  },
  {
   "cell_type": "code",
   "execution_count": null,
   "id": "a1999c1d-dd97-4b62-ba19-cfca1d2b341a",
   "metadata": {},
   "outputs": [],
   "source": [
    "df['alcohol'].plot(kind = 'box')"
   ]
  },
  {
   "cell_type": "code",
   "execution_count": null,
   "id": "ec18eecc-fd3b-41ed-9340-8b80e137e886",
   "metadata": {},
   "outputs": [],
   "source": [
    "df['alcohol'].skew()"
   ]
  },
  {
   "cell_type": "markdown",
   "id": "8c2af522-d30c-4a14-adf5-cba1ab3401c6",
   "metadata": {},
   "source": [
    "**12.quality**"
   ]
  },
  {
   "cell_type": "code",
   "execution_count": null,
   "id": "1fe5e0b5-be57-408d-8699-1a281162c02d",
   "metadata": {},
   "outputs": [],
   "source": [
    "df.quality.value_counts()"
   ]
  },
  {
   "cell_type": "code",
   "execution_count": null,
   "id": "21cdaa86-1d77-4ff4-9e66-3c931c591eef",
   "metadata": {},
   "outputs": [],
   "source": [
    "df.quality.isnull().sum()"
   ]
  },
  {
   "cell_type": "code",
   "execution_count": null,
   "id": "7b95bc08-2121-45ff-93a2-d217195d81b6",
   "metadata": {},
   "outputs": [],
   "source": [
    "df.quality.value_counts().plot(kind = 'bar')"
   ]
  },
  {
   "cell_type": "code",
   "execution_count": null,
   "id": "7558d535-471b-47d0-bd8a-194dfa00a393",
   "metadata": {},
   "outputs": [],
   "source": [
    "df.quality.value_counts().plot(kind = 'pie' , autopct = '%0.1f%%')"
   ]
  },
  {
   "cell_type": "markdown",
   "id": "631f6a31-ac58-4b0c-9c7e-8f21ca482df6",
   "metadata": {},
   "source": [
    "**Bivariate Analysis**"
   ]
  },
  {
   "cell_type": "code",
   "execution_count": null,
   "id": "6b7dce6c-6dbd-4f3e-8212-e3a13c356ad1",
   "metadata": {},
   "outputs": [],
   "source": [
    "plt.figure(figsize=(12,6))\n",
    "sns.barplot(x=\"quality\",y=\"fixed acidity\",data=df)\n",
    "plt.show()"
   ]
  },
  {
   "cell_type": "code",
   "execution_count": null,
   "id": "dbdbc39e-e369-46aa-9cfa-f5bbe07e229a",
   "metadata": {},
   "outputs": [],
   "source": [
    "\n",
    "sns.scatterplot(x=df[\"fixed acidity\"], y=df[\"quality\"])\n",
    "plt.title(\"fixed acidity vs. Quality\")\n",
    "plt.xlabel(\"fixed acidity\")\n",
    "plt.ylabel(\"Wine Quality\")\n",
    "plt.show()\n"
   ]
  },
  {
   "cell_type": "code",
   "execution_count": null,
   "id": "d62979fe-10e0-446f-b62f-3af02bd3ebf3",
   "metadata": {},
   "outputs": [],
   "source": [
    "\n",
    "sns.violinplot(x=df[\"quality\"].astype(str), y=df[\"fixed acidity\"])\n",
    "plt.title(\"Voline plot for fixed acidity Distribution Across Quality Levels\")\n",
    "plt.xlabel(\"Quality\")\n",
    "plt.ylabel(\"fixed acidity\")\n",
    "plt.show()"
   ]
  },
  {
   "cell_type": "code",
   "execution_count": null,
   "id": "ea110d61-dbcb-4111-b463-fe5b1f9d0bc0",
   "metadata": {},
   "outputs": [],
   "source": [
    "plt.figure(figsize=(12,6))\n",
    "sns.barplot(x=\"quality\",y=\"volatile acidity\",data=df)\n",
    "plt.show()"
   ]
  },
  {
   "cell_type": "code",
   "execution_count": null,
   "id": "b0878bb6-5a0b-46f4-b34a-933d66334918",
   "metadata": {},
   "outputs": [],
   "source": [
    "\n",
    "sns.scatterplot(x=df[\"volatile acidity\"], y=df[\"quality\"])\n",
    "plt.title(\"volatile acidity vs. Quality\")\n",
    "plt.xlabel(\"volatile acidity\")\n",
    "plt.ylabel(\"Wine Quality\")\n",
    "plt.show()\n"
   ]
  },
  {
   "cell_type": "code",
   "execution_count": null,
   "id": "688380a2-5e94-4d65-aed9-3a1f5ade7211",
   "metadata": {},
   "outputs": [],
   "source": [
    "\n",
    "sns.violinplot(x=df[\"quality\"].astype(str), y=df[\"volatile acidity\"])\n",
    "plt.title(\"Voline plot for volatile acidity Distribution Across Quality Levels\")\n",
    "plt.xlabel(\"Quality\")\n",
    "plt.ylabel(\"volatile acidity\")\n",
    "plt.show()"
   ]
  },
  {
   "cell_type": "code",
   "execution_count": null,
   "id": "d6541412-edfd-4a16-815a-f81c994cdf20",
   "metadata": {},
   "outputs": [],
   "source": [
    "plt.figure(figsize=(12,6))\n",
    "sns.barplot(x=\"quality\",y=\"citric acid\",data=df)\n",
    "plt.show()"
   ]
  },
  {
   "cell_type": "code",
   "execution_count": null,
   "id": "7e8af261-44ad-4709-8be2-48327f6e9eb2",
   "metadata": {},
   "outputs": [],
   "source": [
    "\n",
    "sns.scatterplot(x=df[\"citric acid\"], y=df[\"quality\"])\n",
    "plt.title(\"citric acid vs. Quality\")\n",
    "plt.xlabel(\"citric acid\")\n",
    "plt.ylabel(\"Wine Quality\")\n",
    "plt.show()\n"
   ]
  },
  {
   "cell_type": "code",
   "execution_count": null,
   "id": "f183f384-b0d2-4181-833f-d30e248599f1",
   "metadata": {},
   "outputs": [],
   "source": [
    "\n",
    "sns.violinplot(x=df[\"quality\"].astype(str), y=df[\"citric acid\"])\n",
    "plt.title(\"Voline plot for citric acid Distribution Across Quality Levels\")\n",
    "plt.xlabel(\"Quality\")\n",
    "plt.ylabel(\"citric acid\")\n",
    "plt.show()"
   ]
  },
  {
   "cell_type": "code",
   "execution_count": null,
   "id": "aaccbbcc-f51a-4e9e-93b9-325b56c2ac91",
   "metadata": {},
   "outputs": [],
   "source": [
    "plt.figure(figsize=(12,6))\n",
    "sns.barplot(x=\"quality\",y=\"residual sugar\",data=df)\n",
    "plt.show()"
   ]
  },
  {
   "cell_type": "code",
   "execution_count": null,
   "id": "469451a5-0e84-4a30-b2d5-0f87e11443fd",
   "metadata": {},
   "outputs": [],
   "source": [
    "\n",
    "sns.scatterplot(x=df[\"residual sugar\"], y=df[\"quality\"])\n",
    "plt.title(\"residual sugar vs. Quality\")\n",
    "plt.xlabel(\"residual sugar\")\n",
    "plt.ylabel(\"Wine Quality\")\n",
    "plt.show()\n"
   ]
  },
  {
   "cell_type": "code",
   "execution_count": null,
   "id": "49951696-e6a5-46a8-8f74-5b3ad3de1a14",
   "metadata": {},
   "outputs": [],
   "source": [
    "\n",
    "sns.violinplot(x=df[\"quality\"].astype(str), y=df[\"residual sugar\"])\n",
    "plt.title(\"Voline plot for residual sugar Distribution Across Quality Levels\")\n",
    "plt.xlabel(\"Quality\")\n",
    "plt.ylabel(\"residual sugar\")\n",
    "plt.show()"
   ]
  },
  {
   "cell_type": "code",
   "execution_count": null,
   "id": "3be1ca22-6379-4457-a986-63f82ae4bdfb",
   "metadata": {},
   "outputs": [],
   "source": [
    "correlation = df[\"quality\"].corr(df[\"chlorides\"])\n",
    "print(f\"Correlation between Quality and chlorides: {correlation:}\")"
   ]
  },
  {
   "cell_type": "code",
   "execution_count": null,
   "id": "2a78f06e-6671-4e1d-a552-5e178baf479e",
   "metadata": {},
   "outputs": [],
   "source": [
    "\n",
    "sns.scatterplot(x=df[\"chlorides\"], y=df[\"quality\"])\n",
    "plt.title(\"chlorides vs. Quality\")\n",
    "plt.xlabel(\"chlorides\")\n",
    "plt.ylabel(\"Wine Quality\")\n",
    "plt.show()\n"
   ]
  },
  {
   "cell_type": "code",
   "execution_count": null,
   "id": "753a57d0-a9a2-425e-950f-37e32a0ccf15",
   "metadata": {},
   "outputs": [],
   "source": [
    "\n",
    "sns.violinplot(x=df[\"quality\"].astype(str), y=df[\"chlorides\"])\n",
    "plt.title(\"Voline plot for chlorides Distribution Across Quality Levels\")\n",
    "plt.xlabel(\"Quality\")\n",
    "plt.ylabel(\"chlorides\")\n",
    "plt.show()"
   ]
  },
  {
   "cell_type": "code",
   "execution_count": null,
   "id": "0e60f8b9-2973-4ff5-a1f2-28ef6b764485",
   "metadata": {},
   "outputs": [],
   "source": [
    "plt.figure(figsize=(12,6))\n",
    "sns.barplot(x=\"quality\",y=\"free sulfur dioxide\",data=df)\n",
    "plt.show()"
   ]
  },
  {
   "cell_type": "code",
   "execution_count": null,
   "id": "9e69a446-1858-4423-9839-4facbdb6a55c",
   "metadata": {},
   "outputs": [],
   "source": [
    "\n",
    "sns.scatterplot(x=df[\"free sulfur dioxide\"], y=df[\"quality\"])\n",
    "plt.title(\"free sulfur dioxide vs. Quality\")\n",
    "plt.xlabel(\"free sulfur dioxide\")\n",
    "plt.ylabel(\"Wine Quality\")\n",
    "plt.show()\n"
   ]
  },
  {
   "cell_type": "code",
   "execution_count": null,
   "id": "755a2567-5785-4b5c-a269-f6e7b511d067",
   "metadata": {},
   "outputs": [],
   "source": [
    "\n",
    "sns.violinplot(x=df[\"quality\"].astype(str), y=df[\"free sulfur dioxide\"])\n",
    "plt.title(\"Voline plot for free sulfur dioxide Distribution Across Quality Levels\")\n",
    "plt.xlabel(\"Quality\")\n",
    "plt.ylabel(\"free sulfur dioxide\")\n",
    "plt.show()"
   ]
  },
  {
   "cell_type": "code",
   "execution_count": null,
   "id": "d5ae0cfe-a292-4dac-ac19-f33ff65aa184",
   "metadata": {},
   "outputs": [],
   "source": [
    "plt.figure(figsize=(12,6))\n",
    "sns.barplot(x=\"quality\",y=\"total sulfur dioxide\",data=df)\n",
    "plt.show()"
   ]
  },
  {
   "cell_type": "code",
   "execution_count": null,
   "id": "b8960dee-2597-42c2-ba51-b90fdf5c64db",
   "metadata": {},
   "outputs": [],
   "source": [
    "\n",
    "sns.scatterplot(x=df[\"total sulfur dioxide\"], y=df[\"quality\"])\n",
    "plt.title(\"total sulfur dioxide vs. Quality\")\n",
    "plt.xlabel(\"total sulfur dioxide\")\n",
    "plt.ylabel(\"Wine Quality\")\n",
    "plt.show()\n"
   ]
  },
  {
   "cell_type": "code",
   "execution_count": null,
   "id": "efd09f75-a72a-4884-baa3-b0724f158e7e",
   "metadata": {},
   "outputs": [],
   "source": [
    "\n",
    "sns.violinplot(x=df[\"quality\"].astype(str), y=df[\"total sulfur dioxide\"])\n",
    "plt.title(\"Voline plot for total sulfur dioxide Distribution Across Quality Levels\")\n",
    "plt.xlabel(\"Quality\")\n",
    "plt.ylabel(\"total sulfur dioxide\")\n",
    "plt.show()"
   ]
  },
  {
   "cell_type": "code",
   "execution_count": null,
   "id": "e7647e63-00ab-45cf-8d01-fc0141ee438c",
   "metadata": {},
   "outputs": [],
   "source": [
    "plt.figure(figsize=(12,6))\n",
    "sns.barplot(x=\"quality\",y=\"density\",data=df)\n",
    "plt.show()"
   ]
  },
  {
   "cell_type": "code",
   "execution_count": null,
   "id": "c91d2c74-ff37-4076-9b3f-9ee011775e63",
   "metadata": {},
   "outputs": [],
   "source": [
    "\n",
    "sns.scatterplot(x=df[\"density\"], y=df[\"quality\"])\n",
    "plt.title(\"density vs. Quality\")\n",
    "plt.xlabel(\"density\")\n",
    "plt.ylabel(\"Wine Quality\")\n",
    "plt.show()\n"
   ]
  },
  {
   "cell_type": "code",
   "execution_count": null,
   "id": "6516a3d8-14ab-4c45-bd75-890deb90a2bd",
   "metadata": {},
   "outputs": [],
   "source": [
    "\n",
    "sns.violinplot(x=df[\"quality\"].astype(str), y=df[\"density\"])\n",
    "plt.title(\"Voline plot for density Distribution Across Quality Levels\")\n",
    "plt.xlabel(\"Quality\")\n",
    "plt.ylabel(\"density\")\n",
    "plt.show()"
   ]
  },
  {
   "cell_type": "code",
   "execution_count": null,
   "id": "5aae62b1-65ec-4154-80d8-05d618c31aa4",
   "metadata": {},
   "outputs": [],
   "source": [
    "plt.figure(figsize=(12,6))\n",
    "sns.barplot(x=\"quality\",y=\"pH\",data=df)\n",
    "plt.show()"
   ]
  },
  {
   "cell_type": "code",
   "execution_count": null,
   "id": "0b4976ee-d45a-4e76-8c43-df40c2c92b61",
   "metadata": {},
   "outputs": [],
   "source": [
    "sns.scatterplot(x=\"citric acid\", y=\"pH\", data=df)\n",
    "plt.show()"
   ]
  },
  {
   "cell_type": "code",
   "execution_count": null,
   "id": "da0fd89b-a894-466f-8139-c4997e0afd56",
   "metadata": {},
   "outputs": [],
   "source": [
    "\n",
    "sns.scatterplot(x=df[\"pH\"], y=df[\"quality\"])\n",
    "plt.title(\"pH vs. Quality\")\n",
    "plt.xlabel(\"pH\")\n",
    "plt.ylabel(\"Wine Quality\")\n",
    "plt.show()\n"
   ]
  },
  {
   "cell_type": "code",
   "execution_count": null,
   "id": "121eb953-8943-458f-9724-cbed72a96eae",
   "metadata": {},
   "outputs": [],
   "source": [
    "\n",
    "sns.violinplot(x=df[\"quality\"].astype(str), y=df[\"pH\"])\n",
    "plt.title(\"Voline plot for pH Distribution Across Quality Levels\")\n",
    "plt.xlabel(\"Quality\")\n",
    "plt.ylabel(\"pH\")\n",
    "plt.show()"
   ]
  },
  {
   "cell_type": "code",
   "execution_count": null,
   "id": "4856e56e-839c-47a4-8b2c-ac6156e5ff4c",
   "metadata": {},
   "outputs": [],
   "source": [
    "plt.figure(figsize=(12,6))\n",
    "sns.barplot(x=\"quality\",y=\"sulphates\",data=df)\n",
    "plt.show()"
   ]
  },
  {
   "cell_type": "code",
   "execution_count": null,
   "id": "17c1c2b4-6e74-4153-8f5e-0056f126587e",
   "metadata": {},
   "outputs": [],
   "source": [
    "\n",
    "sns.scatterplot(x=df[\"sulphates\"], y=df[\"quality\"])\n",
    "plt.title(\"sulphates vs. Quality\")\n",
    "plt.xlabel(\"sulphates\")\n",
    "plt.ylabel(\"Wine Quality\")\n",
    "plt.show()\n"
   ]
  },
  {
   "cell_type": "code",
   "execution_count": null,
   "id": "d46bc5c7-a66c-4977-aa0f-3d9ae3bf629f",
   "metadata": {},
   "outputs": [],
   "source": [
    "\n",
    "sns.violinplot(x=df[\"quality\"].astype(str), y=df[\"sulphates\"])\n",
    "plt.title(\"Voline plot for sulphates Distribution Across Quality Levels\")\n",
    "plt.xlabel(\"Quality\")\n",
    "plt.ylabel(\"sulphates\")\n",
    "plt.show()"
   ]
  },
  {
   "cell_type": "code",
   "execution_count": null,
   "id": "8bb35ff0-5d1e-4d84-b7c7-6abd54a358f9",
   "metadata": {},
   "outputs": [],
   "source": [
    "plt.figure(figsize=(12,6))\n",
    "sns.barplot(x=\"quality\",y=\"alcohol\",data=df)\n",
    "plt.show()"
   ]
  },
  {
   "cell_type": "code",
   "execution_count": null,
   "id": "10cf5968-065a-466f-8124-0fdecc1e77a4",
   "metadata": {},
   "outputs": [],
   "source": [
    "\n",
    "sns.scatterplot(x=\"alcohol\", y=\"quality\", data=df)\n",
    "plt.title(\"alcohol vs. Quality\")\n",
    "plt.xlabel(\"alcohol\")\n",
    "plt.ylabel(\"Wine Quality\")\n",
    "plt.show()\n"
   ]
  },
  {
   "cell_type": "code",
   "execution_count": null,
   "id": "e0ba8804-10bc-40eb-af72-48d4ad924463",
   "metadata": {},
   "outputs": [],
   "source": [
    "\n",
    "sns.violinplot(x=df[\"quality\"].astype(str), y=df[\"alcohol\"])\n",
    "plt.title(\"Voline plot for Alcohol Distribution Across Quality Levels\")\n",
    "plt.xlabel(\"Quality\")\n",
    "plt.ylabel(\"alcohol\")\n",
    "plt.show()"
   ]
  },
  {
   "cell_type": "code",
   "execution_count": null,
   "id": "e75654a0-f549-48dd-a700-4a360c3ade3c",
   "metadata": {},
   "outputs": [],
   "source": [
    "plt.figure(figsize=(12, 8))\n",
    "sns.heatmap(df.corr(), annot=True, cmap=\"coolwarm\", linewidths=0.5)\n",
    "plt.title(\"Correlation Heatmap\")\n",
    "plt.show()"
   ]
  },
  {
   "cell_type": "markdown",
   "id": "7e520f11-f379-460a-b998-40407b97174e",
   "metadata": {},
   "source": [
    "**Automated eda**"
   ]
  },
  {
   "cell_type": "code",
   "execution_count": null,
   "id": "2fa2e7ca-744e-4f2a-897f-9a9373adb830",
   "metadata": {},
   "outputs": [],
   "source": [
    "!pip install ydata-profiling"
   ]
  },
  {
   "cell_type": "code",
   "execution_count": null,
   "id": "a86efbb2-fb0c-400e-82ed-40aa1f5cb3d2",
   "metadata": {},
   "outputs": [],
   "source": [
    "from ydata_profiling import ProfileReport"
   ]
  },
  {
   "cell_type": "code",
   "execution_count": null,
   "id": "c4ef13fb-4f7b-410d-b745-b1bb9a4baf41",
   "metadata": {},
   "outputs": [],
   "source": [
    "profile = ProfileReport(df ,explorative = True )\n",
    "profile.to_notebook_iframe()  # For Jupyter Notebooks\n",
    "profile.to_file(\"your_report.html\")"
   ]
  },
  {
   "cell_type": "markdown",
   "id": "d5706a64-cfa5-43cc-bc0b-00da0e678f1d",
   "metadata": {},
   "source": [
    "**Pre-Processing**"
   ]
  },
  {
   "cell_type": "markdown",
   "id": "184d5a6d-cdc8-415a-b48a-28e93f416a4e",
   "metadata": {},
   "source": [
    "#categories the Quality as:-\n",
    "0 -> quality of wine LESS THAN 6.5. (Consider degraded quality wine)\n",
    "1-> quality of wine MORE THAN 6.5.  (Consider good quality wine)"
   ]
  },
  {
   "cell_type": "code",
   "execution_count": null,
   "id": "759c9e71-9d20-40f5-90de-795c06a1c25e",
   "metadata": {},
   "outputs": [],
   "source": [
    "df[\"quality_category\"] = df[\"quality\"].apply(lambda x: 1 if x > 6.5 else 0)\n",
    "df"
   ]
  },
  {
   "cell_type": "code",
   "execution_count": null,
   "id": "17459f1e-a4a5-4749-bb17-a197ce467d46",
   "metadata": {},
   "outputs": [],
   "source": [
    "df.iloc[6:11]  # Rows 6 to 10 (indexing starts from 0)"
   ]
  },
  {
   "cell_type": "code",
   "execution_count": null,
   "id": "db0b7ccd-47dd-4d8f-91b4-31a5bb0788c9",
   "metadata": {},
   "outputs": [],
   "source": [
    "print(df[\"quality_category\"].value_counts()) \n"
   ]
  },
  {
   "cell_type": "code",
   "execution_count": null,
   "id": "6f141567-4e62-4e99-9637-861b7dc3d553",
   "metadata": {},
   "outputs": [],
   "source": [
    "df.quality_category.value_counts().plot(kind = 'bar')"
   ]
  },
  {
   "cell_type": "code",
   "execution_count": null,
   "id": "a1819a54-0799-4021-a14c-7891d4bd2a5a",
   "metadata": {},
   "outputs": [],
   "source": [
    "#independent features\n",
    "# Assuming 'quality_category' is the target variable\n",
    "X = df.drop(columns=[\"quality\", \"quality_category\"])  # Independent Variables\n",
    "y = df.quality_category # Dependent Variable (Target)\n"
   ]
  },
  {
   "cell_type": "code",
   "execution_count": null,
   "id": "1e5b7e30-400a-4725-93a9-efdfa603c517",
   "metadata": {},
   "outputs": [],
   "source": [
    "X"
   ]
  },
  {
   "cell_type": "code",
   "execution_count": null,
   "id": "d976462d-4725-4d88-84cb-a2d2aea3f04e",
   "metadata": {},
   "outputs": [],
   "source": [
    "y\n"
   ]
  },
  {
   "cell_type": "code",
   "execution_count": null,
   "id": "78aed5b9-107c-472a-b400-69ec89a586f8",
   "metadata": {},
   "outputs": [],
   "source": [
    "from sklearn.linear_model import LogisticRegression\n",
    "from sklearn.model_selection import train_test_split\n",
    "from sklearn.preprocessing import StandardScaler\n",
    "from sklearn.metrics import accuracy_score, classification_report, confusion_matrix"
   ]
  },
  {
   "cell_type": "code",
   "execution_count": null,
   "id": "9d2259b4-1bf0-4998-86c0-979d889fd2ee",
   "metadata": {},
   "outputs": [],
   "source": [
    "scaler = StandardScaler()\n",
    "X_scaled = scaler.fit_transform(X)"
   ]
  },
  {
   "cell_type": "code",
   "execution_count": null,
   "id": "e03dcd6e-42a5-42b1-9f95-991b87b2202c",
   "metadata": {},
   "outputs": [],
   "source": [
    "\n",
    "X_train, X_test, y_train, y_test = train_test_split(X_scaled, y, test_size=0.2, random_state=42)\n"
   ]
  },
  {
   "cell_type": "code",
   "execution_count": null,
   "id": "701985d6-032b-4b0e-b9d0-6e03da50e590",
   "metadata": {},
   "outputs": [],
   "source": [
    "classifier  = LogisticRegression()\n",
    "classifier.fit(X_train, y_train)"
   ]
  },
  {
   "cell_type": "code",
   "execution_count": null,
   "id": "4f997ff0-4e03-47ac-9251-c34be2f0f970",
   "metadata": {},
   "outputs": [],
   "source": [
    "y_pred = classifier.predict(X_test)"
   ]
  },
  {
   "cell_type": "code",
   "execution_count": null,
   "id": "af9989fe-2653-4318-a5db-332e3905abb9",
   "metadata": {},
   "outputs": [],
   "source": [
    "accuracy = accuracy_score(y_test, y_pred)\n",
    "print(\"Accuracy:\", accuracy)"
   ]
  },
  {
   "cell_type": "code",
   "execution_count": null,
   "id": "b66d64ee-2607-45a7-a631-5c1c7bf0d14d",
   "metadata": {},
   "outputs": [],
   "source": [
    "print(classification_report(y_test ,y_pred))"
   ]
  },
  {
   "cell_type": "code",
   "execution_count": null,
   "id": "8e41f8f5-15a9-489d-8f34-1aab1e9417d2",
   "metadata": {
    "scrolled": true
   },
   "outputs": [],
   "source": [
    "sns.pairplot(df , hue = \"quality\")"
   ]
  },
  {
   "cell_type": "code",
   "execution_count": null,
   "id": "f55b365e-ea2b-45fe-9f44-cb611dbcabf8",
   "metadata": {},
   "outputs": [],
   "source": []
  },
  {
   "cell_type": "code",
   "execution_count": null,
   "id": "a091c118-3c54-4a8e-9af4-d061d265ce17",
   "metadata": {},
   "outputs": [],
   "source": []
  },
  {
   "cell_type": "code",
   "execution_count": null,
   "id": "21092706-aa3a-437f-8ca9-aebf2c9ad38b",
   "metadata": {},
   "outputs": [],
   "source": []
  },
  {
   "cell_type": "code",
   "execution_count": null,
   "id": "d6435f48-a8b9-42c5-b54e-8b8448cc0492",
   "metadata": {},
   "outputs": [],
   "source": []
  },
  {
   "cell_type": "code",
   "execution_count": null,
   "id": "b9f53d86-e846-4ad0-96ce-dbc1b088f815",
   "metadata": {},
   "outputs": [],
   "source": []
  },
  {
   "cell_type": "code",
   "execution_count": null,
   "id": "76143930-020e-45cb-b01e-618d5f4d19ae",
   "metadata": {},
   "outputs": [],
   "source": []
  },
  {
   "cell_type": "code",
   "execution_count": null,
   "id": "bb41c06b-acd7-4094-9623-35db903981a8",
   "metadata": {},
   "outputs": [],
   "source": []
  },
  {
   "cell_type": "code",
   "execution_count": null,
   "id": "3e54318e-de51-4f0d-b8db-eadf08243571",
   "metadata": {},
   "outputs": [],
   "source": []
  },
  {
   "cell_type": "code",
   "execution_count": null,
   "id": "9f90dc68-27e7-43dc-b89e-937436f57276",
   "metadata": {},
   "outputs": [],
   "source": []
  },
  {
   "cell_type": "code",
   "execution_count": null,
   "id": "49e54c76-5520-4d0b-a816-7b1c58c4a2cd",
   "metadata": {},
   "outputs": [],
   "source": []
  },
  {
   "cell_type": "code",
   "execution_count": null,
   "id": "c7ded1df-ba2f-439e-b5fa-7908c7e4c5e1",
   "metadata": {},
   "outputs": [],
   "source": []
  },
  {
   "cell_type": "code",
   "execution_count": null,
   "id": "a03e04ae-e05b-4386-a79b-4cc91639460c",
   "metadata": {},
   "outputs": [],
   "source": []
  },
  {
   "cell_type": "code",
   "execution_count": null,
   "id": "ff66db0e-1860-4371-ba57-43a0bd018672",
   "metadata": {},
   "outputs": [],
   "source": []
  },
  {
   "cell_type": "code",
   "execution_count": null,
   "id": "6e1313d7-d675-40df-90f5-c3b27bd5fa9f",
   "metadata": {},
   "outputs": [],
   "source": []
  },
  {
   "cell_type": "code",
   "execution_count": null,
   "id": "ccc153ee-f90d-49ba-b502-239d4c385d89",
   "metadata": {},
   "outputs": [],
   "source": []
  },
  {
   "cell_type": "code",
   "execution_count": null,
   "id": "7b825310-2b6c-4cdd-b789-5d2395a27810",
   "metadata": {},
   "outputs": [],
   "source": []
  },
  {
   "cell_type": "code",
   "execution_count": null,
   "id": "79c89f9c-8652-492e-8a6b-f05a1c6025a5",
   "metadata": {},
   "outputs": [],
   "source": []
  },
  {
   "cell_type": "code",
   "execution_count": null,
   "id": "291fdda4-7fbe-4cec-a788-bd4a65016079",
   "metadata": {},
   "outputs": [],
   "source": []
  },
  {
   "cell_type": "code",
   "execution_count": null,
   "id": "3633a281-bb8b-4896-9131-e2f1bcbc2e95",
   "metadata": {},
   "outputs": [],
   "source": []
  },
  {
   "cell_type": "code",
   "execution_count": null,
   "id": "83609a83-d6d7-4440-b73f-2b42c19824e3",
   "metadata": {},
   "outputs": [],
   "source": []
  },
  {
   "cell_type": "code",
   "execution_count": null,
   "id": "c75324f9-f9a2-4e7e-ae01-7efcaedb3812",
   "metadata": {},
   "outputs": [],
   "source": []
  },
  {
   "cell_type": "code",
   "execution_count": null,
   "id": "df76b1ff-ad66-449d-ae1e-a4076514b4cf",
   "metadata": {},
   "outputs": [],
   "source": []
  },
  {
   "cell_type": "code",
   "execution_count": null,
   "id": "0d87ce45-4cba-435b-95f7-7862453bb405",
   "metadata": {},
   "outputs": [],
   "source": []
  },
  {
   "cell_type": "code",
   "execution_count": null,
   "id": "52ea05f2-5d66-49d4-aed2-e3de31999f75",
   "metadata": {},
   "outputs": [],
   "source": []
  },
  {
   "cell_type": "code",
   "execution_count": null,
   "id": "8ed7a1fe-048a-4952-9e1a-b3f036717ce1",
   "metadata": {},
   "outputs": [],
   "source": []
  },
  {
   "cell_type": "code",
   "execution_count": null,
   "id": "33d8a7f9-74ba-4602-b6ee-90fc83b9c4a8",
   "metadata": {},
   "outputs": [],
   "source": []
  },
  {
   "cell_type": "code",
   "execution_count": null,
   "id": "64e1a1d6-01cf-4a8a-b855-0c92ab2c12d3",
   "metadata": {},
   "outputs": [],
   "source": []
  },
  {
   "cell_type": "code",
   "execution_count": null,
   "id": "28bcc649-1b35-4a36-a78a-f8e9258bcd4c",
   "metadata": {},
   "outputs": [],
   "source": []
  },
  {
   "cell_type": "code",
   "execution_count": null,
   "id": "6ea655c8-57cb-47fa-b6cb-069f79a5ee50",
   "metadata": {},
   "outputs": [],
   "source": []
  },
  {
   "cell_type": "code",
   "execution_count": null,
   "id": "f4d9177d-acab-48bc-ac01-5aa4379d3d8f",
   "metadata": {},
   "outputs": [],
   "source": []
  },
  {
   "cell_type": "code",
   "execution_count": null,
   "id": "c764ee36-cfa9-4f5f-af59-e15601e996bf",
   "metadata": {},
   "outputs": [],
   "source": []
  },
  {
   "cell_type": "code",
   "execution_count": null,
   "id": "4a37c4b6-14e9-4656-bd13-c37f3bab16ec",
   "metadata": {},
   "outputs": [],
   "source": []
  },
  {
   "cell_type": "code",
   "execution_count": null,
   "id": "d99d5b0b-d7c8-475d-bc5f-6a782216600a",
   "metadata": {},
   "outputs": [],
   "source": []
  },
  {
   "cell_type": "code",
   "execution_count": null,
   "id": "11f61509-4542-416d-a1e9-3a1834fa2cc6",
   "metadata": {},
   "outputs": [],
   "source": []
  },
  {
   "cell_type": "code",
   "execution_count": null,
   "id": "59f201f0-01a4-4772-bde2-b5c9e4da604d",
   "metadata": {},
   "outputs": [],
   "source": []
  },
  {
   "cell_type": "code",
   "execution_count": null,
   "id": "1f0a877a-84e8-49d9-9acf-7bf61dc6e8e4",
   "metadata": {},
   "outputs": [],
   "source": []
  },
  {
   "cell_type": "code",
   "execution_count": null,
   "id": "ba41af0a-6c47-48f3-809b-391e04e5efea",
   "metadata": {},
   "outputs": [],
   "source": []
  },
  {
   "cell_type": "code",
   "execution_count": null,
   "id": "7d2351d0-07c8-4c33-8f79-9b8dea2237c6",
   "metadata": {},
   "outputs": [],
   "source": []
  },
  {
   "cell_type": "code",
   "execution_count": null,
   "id": "7ffa3cce-57a3-475a-87af-0151f673cf1c",
   "metadata": {},
   "outputs": [],
   "source": []
  },
  {
   "cell_type": "code",
   "execution_count": null,
   "id": "de48c6df-c542-4445-9a45-9b4efacd97b9",
   "metadata": {},
   "outputs": [],
   "source": []
  },
  {
   "cell_type": "code",
   "execution_count": null,
   "id": "7c11d01a-d48a-47db-8207-62317907cae9",
   "metadata": {},
   "outputs": [],
   "source": []
  },
  {
   "cell_type": "code",
   "execution_count": null,
   "id": "f5800f91-1501-46f9-9f97-fb51cbd97784",
   "metadata": {},
   "outputs": [],
   "source": []
  },
  {
   "cell_type": "code",
   "execution_count": null,
   "id": "2e850d9b-6b99-4a33-883e-9bdaddbbb535",
   "metadata": {},
   "outputs": [],
   "source": []
  },
  {
   "cell_type": "code",
   "execution_count": null,
   "id": "33ef3cde-2b9b-47e4-aa34-9a9b4cd8cafe",
   "metadata": {},
   "outputs": [],
   "source": []
  },
  {
   "cell_type": "code",
   "execution_count": null,
   "id": "821cc51c-6d8d-4353-a9ac-7838432bf31e",
   "metadata": {},
   "outputs": [],
   "source": []
  },
  {
   "cell_type": "code",
   "execution_count": null,
   "id": "9e91ae9c-20fe-4853-a4e8-57da9e64736b",
   "metadata": {},
   "outputs": [],
   "source": []
  },
  {
   "cell_type": "code",
   "execution_count": null,
   "id": "72504dd3-1f32-4900-be9d-12acf70d8bba",
   "metadata": {},
   "outputs": [],
   "source": []
  }
 ],
 "metadata": {
  "kernelspec": {
   "display_name": "Python [conda env:base] *",
   "language": "python",
   "name": "conda-base-py"
  },
  "language_info": {
   "codemirror_mode": {
    "name": "ipython",
    "version": 3
   },
   "file_extension": ".py",
   "mimetype": "text/x-python",
   "name": "python",
   "nbconvert_exporter": "python",
   "pygments_lexer": "ipython3",
   "version": "3.11.5"
  }
 },
 "nbformat": 4,
 "nbformat_minor": 5
}
